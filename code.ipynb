{
 "cells": [
  {
   "cell_type": "markdown",
   "metadata": {},
   "source": [
    "this is classification using reusable code"
   ]
  },
  {
   "cell_type": "code",
   "execution_count": 21,
   "metadata": {},
   "outputs": [
    {
     "name": "stdout",
     "output_type": "stream",
     "text": [
      "<class 'pandas.core.frame.DataFrame'>\n",
      "RangeIndex: 891 entries, 0 to 890\n",
      "Data columns (total 8 columns):\n",
      " #   Column    Non-Null Count  Dtype  \n",
      "---  ------    --------------  -----  \n",
      " 0   Id        891 non-null    int64  \n",
      " 1   Pclass    891 non-null    int64  \n",
      " 2   Sex       891 non-null    int64  \n",
      " 3   Age       891 non-null    float64\n",
      " 4   SibSp     891 non-null    int64  \n",
      " 5   Parch     891 non-null    int64  \n",
      " 6   Fare      891 non-null    float64\n",
      " 7   Embarked  891 non-null    int64  \n",
      "dtypes: float64(2), int64(6)\n",
      "memory usage: 55.8 KB\n"
     ]
    }
   ],
   "source": [
    "import pandas as pd\n",
    "import numpy as np\n",
    "data=pd.read_csv('train_X.csv')\n",
    "data.dropna()\n",
    "data2=pd.read_csv('train_Y.csv')\n",
    "data2.dropna()\n",
    "data.info()\n",
    "X=data.to_numpy()\n",
    "Y=data2.to_numpy()\n",
    "Y=np.delete(Y,0,axis=1) #deleting the id column\n",
    "X=np.delete(X,0,axis=1) #deleting the id column"
   ]
  },
  {
   "cell_type": "code",
   "execution_count": 12,
   "metadata": {},
   "outputs": [],
   "source": [
    "def relu(x):\n",
    "    return np.maximum(0, x)\n",
    "def derrelu(x):\n",
    "    return np.where(x > 0, 1, 0)\n",
    "def tanh(x):\n",
    "    return (np.exp(x)-np.exp(-x))/(np.exp(x)+np.exp(-x))\n",
    "def dertanh(x):\n",
    "    return 1-np.power(np.tanh(x),2)\n",
    "def sig(x):\n",
    "    x = np.clip(x, -500, 500)\n",
    "    return 1/(1+np.exp(-x))\n",
    "def softmax(x):\n",
    "    expX = np.exp(x)\n",
    "    return expX/np.sum(expX, axis = 1,keepdims=True)"
   ]
  },
  {
   "cell_type": "code",
   "execution_count": 13,
   "metadata": {},
   "outputs": [],
   "source": [
    "def initializeparameters(n0,n1,n2):\n",
    "    W1=np.random.random((n1,n0))\n",
    "    B1 = np.zeros((n1, 1))\n",
    "    W2=np.random.random((n2,n1))\n",
    "    B2 = np.zeros((n2, 1))\n",
    "    parameters={\n",
    "        'W1' :W1,\n",
    "        'B1' :B1,\n",
    "        'W2' :W2,\n",
    "        'B2' :B2\n",
    "    }\n",
    "    return parameters\n",
    "def forwardpropogation(X,parameters):\n",
    "    W1=parameters['W1']\n",
    "    W2=parameters['W2']\n",
    "    B1=parameters['B1']\n",
    "    B2=parameters['B2']\n",
    "    Z1=(np.dot(W1,X.T)+B1).T\n",
    "    A1=relu(Z1)\n",
    "    Z2=(np.dot(W2,A1.T)+B2).T\n",
    "    A2=sig(Z2)\n",
    "    A2 = np.clip(A2, 1e-10, 1 - 1e-10)\n",
    "    A2 = np.nan_to_num(A2, nan=1e-10)\n",
    "    forward_cache={\n",
    "        'Z1' :Z1,\n",
    "        'A1' :A1,\n",
    "        'Z2' :Z2,\n",
    "        'A2' :A2\n",
    "\n",
    "    }\n",
    "    return forward_cache\n",
    "def costfunction(Y,A2):\n",
    "    m=Y.shape[0]\n",
    "    cost = -(1/m)*np.sum(Y*np.log(A2)+(1-Y)*np.log(1-A2))\n",
    "    return cost\n",
    "def backwardpropagation(X,Y,parameters,forward_cache):\n",
    "    W1=parameters['W1']\n",
    "    W2=parameters['W2']\n",
    "    B1=parameters['B1']\n",
    "    B2=parameters['B2']\n",
    "    Z1=forward_cache['Z1']\n",
    "    A1=forward_cache['A1']\n",
    "    Z2=forward_cache['Z2']\n",
    "    A2=forward_cache['A2']\n",
    "    m=Y.shape[0]\n",
    "    dZ2=A2-Y\n",
    "    dW2=(1/m)*np.dot(dZ2.T,A1)\n",
    "    dB2=(1/m)*np.sum(dZ2,axis=0,keepdims=True).T\n",
    "    dA1=np.dot(dZ2,W2)\n",
    "    dZ1=dA1*derrelu(Z1)\n",
    "    dW1=(1/m)*np.dot(dZ1.T,X)\n",
    "    dB1=(1/m)*np.sum(dZ1,axis=0,keepdims=True).T\n",
    "    gradients={\n",
    "        'dW1' :dW1,\n",
    "        'dB1' :dB1,\n",
    "        'dW2' :dW2,\n",
    "        'dB2' :dB2\n",
    "    }\n",
    "    return gradients\n",
    "def updateparameters(parameters,gradients,learningrate):\n",
    "    W1=parameters['W1']\n",
    "    W2=parameters['W2']\n",
    "    B1=parameters['B1']\n",
    "    B2=parameters['B2']\n",
    "    dW1=gradients['dW1']\n",
    "    dW2=gradients['dW2']\n",
    "    dB1=gradients['dB1']\n",
    "    dB2=gradients['dB2']\n",
    "    W1-=learningrate*dW1\n",
    "    B1-=learningrate*dB1\n",
    "    W2-=learningrate*dW2\n",
    "    B2-=learningrate*dB2\n",
    "    parameters={\n",
    "        'W1' :W1,\n",
    "        'B1' :B1,\n",
    "        'W2' :W2,\n",
    "        'B2' :B2\n",
    "    }\n",
    "    return parameters\n",
    "def model(X,Y,n1,learningrate,iterations):\n",
    "    n0=X.shape[1]\n",
    "    n2=Y.shape[1]\n",
    "    costlist=[]\n",
    "    parameters=initializeparameters(n0,n1,n2)\n",
    "    for i in range(iterations):\n",
    "        forward_cache=forwardpropogation(X,parameters)\n",
    "        cost=costfunction(Y,forward_cache['A2'])\n",
    "        gradients=backwardpropagation(X,Y,parameters,forward_cache)\n",
    "        parameters=updateparameters(parameters,gradients,learningrate)\n",
    "        if(i%(iterations/10)==0):\n",
    "            costlist.append(cost)\n",
    "            print('cost after ',i,'th iterations is ',cost)\n",
    "    return parameters,costlist"
   ]
  },
  {
   "cell_type": "code",
   "execution_count": 14,
   "metadata": {},
   "outputs": [
    {
     "name": "stdout",
     "output_type": "stream",
     "text": [
      "cost after  0 th iterations is  14.18764547154551\n",
      "cost after  90 th iterations is  0.8588512078245093\n",
      "cost after  180 th iterations is  0.5845212743534993\n",
      "cost after  270 th iterations is  0.5674319326477093\n",
      "cost after  360 th iterations is  0.5497062148383618\n",
      "cost after  450 th iterations is  0.5296028811094453\n",
      "cost after  540 th iterations is  0.5225452409781578\n",
      "cost after  630 th iterations is  0.5146653516530769\n",
      "cost after  720 th iterations is  0.5126694609751375\n",
      "cost after  810 th iterations is  0.5144049492346676\n"
     ]
    }
   ],
   "source": [
    "parameters,costlist=model(X,Y,1000,0.05,900)\n"
   ]
  },
  {
   "cell_type": "code",
   "execution_count": 19,
   "metadata": {},
   "outputs": [
    {
     "name": "stdout",
     "output_type": "stream",
     "text": [
      "The accuracy of the model on training set is  78.79 %\n"
     ]
    }
   ],
   "source": [
    "def accuracy(X,Y,parameters):\n",
    "    forward_cache=forwardpropogation(X,parameters)\n",
    "    A2=forward_cache['A2']\n",
    "    for i in range(0,A2.shape[0]):\n",
    "        if A2[i]<0.5:\n",
    "            A2[i]=0\n",
    "        else:\n",
    "            A2[i]=1\n",
    "    correct=0\n",
    "    for i in range(0,A2.shape[0]):\n",
    "        if(A2[i]==Y[i]):\n",
    "            correct+=1\n",
    "    return (correct/A2.shape[0])*100\n",
    "\n",
    "print('The accuracy of the model on training set is ',round(accuracy(X,Y,parameters),2),'%')"
   ]
  },
  {
   "cell_type": "code",
   "execution_count": 20,
   "metadata": {},
   "outputs": [
    {
     "name": "stdout",
     "output_type": "stream",
     "text": [
      "The accuracy of the model on test set is  76.08 %\n"
     ]
    }
   ],
   "source": [
    "data_t=pd.read_csv('test_X.csv')\n",
    "data_t.dropna()\n",
    "data2_t=pd.read_csv('test_Y.csv')\n",
    "data2_t.dropna()\n",
    "X_test=data_t.to_numpy()\n",
    "Y_test=data2_t.to_numpy()\n",
    "Y_test=np.delete(Y_test,0,axis=1) \n",
    "X_test=np.delete(X_test,0,axis=1)  \n",
    "forward_cache=forwardpropogation(X_test,parameters)\n",
    "A2=forward_cache['A2']\n",
    "for i in range(0,A2.shape[0]):\n",
    "    if A2[i]<0.5:\n",
    "        A2[i]=0\n",
    "    else:\n",
    "        A2[i]=1\n",
    "print('The accuracy of the model on test set is ',round(accuracy(X_test,Y_test,parameters),2),'%')"
   ]
  }
 ],
 "metadata": {
  "kernelspec": {
   "display_name": "base",
   "language": "python",
   "name": "python3"
  },
  "language_info": {
   "codemirror_mode": {
    "name": "ipython",
    "version": 3
   },
   "file_extension": ".py",
   "mimetype": "text/x-python",
   "name": "python",
   "nbconvert_exporter": "python",
   "pygments_lexer": "ipython3",
   "version": "3.10.12"
  }
 },
 "nbformat": 4,
 "nbformat_minor": 2
}
